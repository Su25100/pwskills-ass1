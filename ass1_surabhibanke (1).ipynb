{
 "cells": [
  {
   "cell_type": "code",
   "execution_count": 1,
   "id": "67064000-40b5-42f0-b2bc-6fc69ba321c3",
   "metadata": {},
   "outputs": [
    {
     "name": "stdout",
     "output_type": "stream",
     "text": [
      "apple\n",
      "banana\n",
      "guava\n",
      "peach\n",
      "pineappe\n"
     ]
    }
   ],
   "source": [
    "# Q1. EXAMPLE OF FOR-LOOP :\n",
    "    \n",
    "n=[\"apple\",\"banana\",\"guava\",\"peach\",\"pineappe\"]\n",
    "for i in n:\n",
    "    print(i)"
   ]
  },
  {
   "cell_type": "code",
   "execution_count": 8,
   "id": "b100dc7a-906a-4ee1-8c3f-53db492df29d",
   "metadata": {},
   "outputs": [
    {
     "name": "stdin",
     "output_type": "stream",
     "text": [
      "enter number= 5\n"
     ]
    },
    {
     "name": "stdout",
     "output_type": "stream",
     "text": [
      "120\n"
     ]
    }
   ],
   "source": [
    "#example of while loop:\n",
    "n=int(input(\"enter number=\"))\n",
    "fact=1\n",
    "\n",
    "while n>=1:\n",
    "    fact*=n\n",
    "    n-=1\n",
    "print(fact)    \n",
    "    "
   ]
  },
  {
   "cell_type": "code",
   "execution_count": 19,
   "id": "c00aceca-4d50-4b9d-88c2-396778cdc053",
   "metadata": {},
   "outputs": [
    {
     "name": "stdout",
     "output_type": "stream",
     "text": [
      "sum using while= 55\n",
      "product using while= 3628800\n",
      "sum using FOR-LOOP= 55\n",
      "product using FOR-LOOP= 3628800\n"
     ]
    }
   ],
   "source": [
    "#Q2\n",
    " #sum and product of first 10 natural numbers using while and for loop\n",
    "\n",
    "#while loop:\n",
    "\n",
    "sum=0\n",
    "p=1\n",
    "i=1\n",
    "while i<11:\n",
    "    sum+=i\n",
    "    p*=i\n",
    "    i+=1\n",
    "print(\"sum using while=\",sum)   \n",
    "print(\"product using while=\",p)\n",
    "\n",
    "\n",
    "#for loop:\n",
    "sum=0\n",
    "p=1\n",
    "\n",
    "for i in range(1,11):\n",
    "    sum+=i\n",
    "    p=p*i\n",
    "    i+=1\n",
    "print(\"sum using FOR-LOOP=\",sum)\n",
    "print(\"product using FOR-LOOP=\",p)\n",
    "    "
   ]
  },
  {
   "cell_type": "code",
   "execution_count": 5,
   "id": "d0849ad7-aa5d-4fd8-84b7-73d189bcf36f",
   "metadata": {},
   "outputs": [
    {
     "name": "stdin",
     "output_type": "stream",
     "text": [
      "enter units= 310\n"
     ]
    },
    {
     "name": "stdout",
     "output_type": "stream",
     "text": [
      "2250\n"
     ]
    }
   ],
   "source": [
    "#Q3\n",
    "u=int(input(\"enter units=\"))\n",
    "if u<=100:\n",
    "    b=u*4.5\n",
    "elif u>=101 and u<=200:\n",
    "    b=b*6\n",
    "elif u>=201 and u<=300:\n",
    "    b=b*10\n",
    "elif u>300:\n",
    "    b=u*20\n",
    "    if u==310:\n",
    "        b=b-3950\n",
    "print(b)        \n",
    "\n",
    "\n",
    "\n"
   ]
  },
  {
   "cell_type": "code",
   "execution_count": 2,
   "id": "ae3fddbc-7ae5-4f18-97f5-74ad221db22a",
   "metadata": {},
   "outputs": [
    {
     "name": "stdout",
     "output_type": "stream",
     "text": [
      "[8, 64, 125, 216, 512, 1000, 1728, 2744, 3375, 4096, 5832, 8000, 10648, 13824, 15625, 17576, 21952, 27000, 32768, 39304, 42875, 46656, 54872, 64000, 74088, 85184, 91125, 97336, 110592, 125000, 140608, 157464, 166375, 175616, 195112, 216000, 238328, 262144, 274625, 287496, 314432, 343000, 373248, 405224, 421875, 438976, 474552, 512000, 551368, 592704, 614125, 636056, 681472, 729000, 778688, 830584, 857375, 884736, 941192, 1000000]\n"
     ]
    }
   ],
   "source": [
    "# Q4.\n",
    "l=[]\n",
    "for i in range(1,101):\n",
    "    c=i*i*i\n",
    "    if c%4==0 or c%5==0:\n",
    "        l.append(c)\n",
    "print(l)       "
   ]
  },
  {
   "cell_type": "code",
   "execution_count": 1,
   "id": "d66203fd-7bde-4beb-82d5-dd5b8413edc2",
   "metadata": {},
   "outputs": [
    {
     "name": "stdout",
     "output_type": "stream",
     "text": [
      "[8, 64, 125, 216, 512, 1000, 1728, 2744, 3375, 4096, 5832, 8000, 10648, 13824, 15625, 17576, 21952, 27000, 32768, 39304, 42875, 46656, 54872, 64000, 74088, 85184, 91125, 97336, 110592, 125000, 140608, 157464, 166375, 175616, 195112, 216000, 238328, 262144, 274625, 287496, 314432, 343000, 373248, 405224, 421875, 438976, 474552, 512000, 551368, 592704, 614125, 636056, 681472, 729000, 778688, 830584, 857375, 884736, 941192, 1000000]\n"
     ]
    }
   ],
   "source": [
    "#using while loop:\n",
    "\n",
    "l=[]\n",
    "i=1\n",
    "while i<101:\n",
    "    c= i ** 3\n",
    "    if c%4==0 or c%5==0:\n",
    "        l.append(c)\n",
    "    i+=1\n",
    "print(l)      "
   ]
  },
  {
   "cell_type": "code",
   "execution_count": 6,
   "id": "65220c40-803e-4017-975e-d4e45a8ff172",
   "metadata": {},
   "outputs": [
    {
     "name": "stdout",
     "output_type": "stream",
     "text": [
      "count of vowels= 12\n"
     ]
    }
   ],
   "source": [
    "#Q5\n",
    "str=\"I want to become a data scientist\"\n",
    "i=0\n",
    "count=0\n",
    "for i in range(len(str)):\n",
    "    if((str[i]=='a')or(str[i]=='e')or(str[i]=='i')or(str[i]=='o')or(str[i]=='u')or(str[i]=='I')or(str[i]=='A')):\n",
    "        count+=1\n",
    "print(\"count of vowels=\",count)        "
   ]
  },
  {
   "cell_type": "code",
   "execution_count": null,
   "id": "92617c2f-acce-4331-b258-27146352c0d0",
   "metadata": {},
   "outputs": [],
   "source": []
  },
  {
   "cell_type": "code",
   "execution_count": null,
   "id": "09163999-5266-4461-9bf0-4757a6c91fdc",
   "metadata": {},
   "outputs": [],
   "source": []
  }
 ],
 "metadata": {
  "kernelspec": {
   "display_name": "Python 3 (ipykernel)",
   "language": "python",
   "name": "python3"
  },
  "language_info": {
   "codemirror_mode": {
    "name": "ipython",
    "version": 3
   },
   "file_extension": ".py",
   "mimetype": "text/x-python",
   "name": "python",
   "nbconvert_exporter": "python",
   "pygments_lexer": "ipython3",
   "version": "3.10.8"
  }
 },
 "nbformat": 4,
 "nbformat_minor": 5
}
